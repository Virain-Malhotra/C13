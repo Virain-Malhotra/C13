{
  "nbformat": 4,
  "nbformat_minor": 0,
  "metadata": {
    "colab": {
      "name": "StackGAN.ipynb",
      "provenance": [],
      "collapsed_sections": []
    },
    "kernelspec": {
      "name": "python3",
      "display_name": "Python 3"
    }
  },
  "cells": [
    {
      "cell_type": "markdown",
      "metadata": {
        "id": "43d6usjBH0f6"
      },
      "source": [
        "# Stacked Generative Adversarial Network (StackGAN)"
      ]
    },
    {
      "cell_type": "code",
      "metadata": {
        "id": "XoLUZwrTHgH2"
      },
      "source": [
        ""
      ],
      "execution_count": null,
      "outputs": []
    }
  ]
}